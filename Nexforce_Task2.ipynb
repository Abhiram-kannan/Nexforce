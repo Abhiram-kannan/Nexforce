{
  "nbformat": 4,
  "nbformat_minor": 0,
  "metadata": {
    "colab": {
      "provenance": [],
      "mount_file_id": "1YPJT6hqrZByjZgrfVkIhGYuPOG9RYbMR",
      "authorship_tag": "ABX9TyM5eWlgdHK1Ot5VlcabqKO6",
      "include_colab_link": true
    },
    "kernelspec": {
      "name": "python3",
      "display_name": "Python 3"
    },
    "language_info": {
      "name": "python"
    }
  },
  "cells": [
    {
      "cell_type": "markdown",
      "metadata": {
        "id": "view-in-github",
        "colab_type": "text"
      },
      "source": [
        "<a href=\"https://colab.research.google.com/github/Abhiram-kannan/Nexforce/blob/main/Nexforce_Task2.ipynb\" target=\"_parent\"><img src=\"https://colab.research.google.com/assets/colab-badge.svg\" alt=\"Open In Colab\"/></a>"
      ]
    },
    {
      "cell_type": "code",
      "execution_count": 2,
      "metadata": {
        "id": "RFlemK_RIIP-"
      },
      "outputs": [],
      "source": [
        "from google.colab import drive"
      ]
    },
    {
      "cell_type": "code",
      "source": [
        "drive.mount('/content/drive')"
      ],
      "metadata": {
        "colab": {
          "base_uri": "https://localhost:8080/"
        },
        "id": "NpQTBEhLIWTg",
        "outputId": "b0ba70a6-07a0-4064-fe31-fa07679465f8"
      },
      "execution_count": 3,
      "outputs": [
        {
          "output_type": "stream",
          "name": "stdout",
          "text": [
            "Mounted at /content/drive\n"
          ]
        }
      ]
    },
    {
      "cell_type": "code",
      "source": [
        "import pandas as pd"
      ],
      "metadata": {
        "id": "MPPGKehjIhzS"
      },
      "execution_count": 4,
      "outputs": []
    },
    {
      "cell_type": "code",
      "source": [
        "data=pd.read_csv('/content/drive/MyDrive/Nexforce/SOCR-HeightWeight.csv')"
      ],
      "metadata": {
        "id": "ll-AGzPXJcuQ"
      },
      "execution_count": 6,
      "outputs": []
    },
    {
      "cell_type": "code",
      "source": [
        "meanH=data['Height(Inches)'].mean()\n",
        "meanW=data['Weight(Pounds)'].mean()\n",
        "print('Mean of height(In inches ) is ',meanH,'\\nMean of Weight(in pounds) is ',meanW)\n",
        "print()\n",
        "medianH=data['Height(Inches)'].median()\n",
        "medianW=data['Weight(Pounds)'].median()\n",
        "print('Median of height(In inches ) is ',medianH,'\\nMedian of weight(in pounds) is ',medianW)\n",
        "print()"
      ],
      "metadata": {
        "colab": {
          "base_uri": "https://localhost:8080/"
        },
        "id": "nXxSQ6UjLRIX",
        "outputId": "93fd004d-21f9-4c80-fdff-4f8c4481ee07"
      },
      "execution_count": 48,
      "outputs": [
        {
          "output_type": "stream",
          "name": "stdout",
          "text": [
            "Mean of height(In inches ) is  67.99311359679999 \n",
            "Mean of Weight(in pounds) is  127.07942116080001\n",
            "\n",
            "Median of height(In inches ) is  67.9957 \n",
            "Median of weight(in pounds) is  127.15775\n",
            "\n"
          ]
        }
      ]
    },
    {
      "cell_type": "code",
      "source": [
        "modeH=data['Height(Inches)'].mode()\n",
        "print('Mode of height(In inches ) is:')\n",
        "print(modeH)\n",
        "print()\n",
        "modeW=data['Weight(Pounds)'].mode()\n",
        "print('Mode of Weight(In inches ) is:')\n",
        "print(modeW)"
      ],
      "metadata": {
        "colab": {
          "base_uri": "https://localhost:8080/"
        },
        "id": "dpEiprB9QYng",
        "outputId": "5e1c3c84-1ff8-4a71-bd21-c90c2ecfb3db"
      },
      "execution_count": 51,
      "outputs": [
        {
          "output_type": "stream",
          "name": "stdout",
          "text": [
            "Mode of height(In inches ) is:\n",
            "0     65.65796\n",
            "1     67.34629\n",
            "2     67.41672\n",
            "3     67.94061\n",
            "4     67.97769\n",
            "5     67.98509\n",
            "6     68.30287\n",
            "7     68.92380\n",
            "8     68.93456\n",
            "9     68.97830\n",
            "10    70.04724\n",
            "Name: Height(Inches), dtype: float64\n",
            "\n",
            "Mode of Weight(In inches ) is:\n",
            "0    124.7975\n",
            "Name: Weight(Pounds), dtype: float64\n"
          ]
        }
      ]
    }
  ]
}